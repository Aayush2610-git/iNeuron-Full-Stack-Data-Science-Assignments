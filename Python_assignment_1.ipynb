{
 "cells": [
  {
   "cell_type": "markdown",
   "metadata": {},
   "source": [
    "## Assignment 1"
   ]
  },
  {
   "cell_type": "markdown",
   "metadata": {},
   "source": [
    "Name: Aayush Doshi"
   ]
  },
  {
   "cell_type": "markdown",
   "metadata": {},
   "source": [
    "### Question 1"
   ]
  },
  {
   "cell_type": "raw",
   "metadata": {},
   "source": [
    "In the below elements which of them are values or an expression? eg:- values can be integer or string and expressions will be mathematical operators.\n",
    "* \n",
    "'hello'\n",
    "-87.8\n",
    "- \n",
    "/\n",
    "+\t\n",
    "6 \n"
   ]
  },
  {
   "cell_type": "raw",
   "metadata": {},
   "source": [
    "1) * is an expression\n",
    "2) 'hello' is a value\n",
    "3) 87.8 is a value\n",
    "4) -is an expression\n",
    "5) / is an expression\n",
    "6) + is an expression\n",
    "7) 6 is a value\n"
   ]
  },
  {
   "cell_type": "markdown",
   "metadata": {},
   "source": [
    "### Question 2"
   ]
  },
  {
   "cell_type": "raw",
   "metadata": {},
   "source": [
    "What is the difference between string and variable?"
   ]
  },
  {
   "cell_type": "raw",
   "metadata": {},
   "source": [
    "String:- \n",
    "Is a literal text string. For example strings can be denoted as \"hello\" or 'hello' in python i.e is either double quotes\n",
    "or single quotes.\n",
    "\n",
    "Variable:-\n",
    "Variable is something that holds the data. It can be anyting like a string, an integer or a float number. In other languages \n",
    "we have to define the variable first but not in python. For example:\n",
    "a=10 Here a is a varibale and is stored in a heap space.\n",
    "We can check the type of a variable by typing :-\n",
    "type(a)\n",
    "To see the id location where your variable is stored :-\n",
    "id(a)"
   ]
  },
  {
   "cell_type": "markdown",
   "metadata": {},
   "source": [
    "### Question 3"
   ]
  },
  {
   "cell_type": "raw",
   "metadata": {},
   "source": [
    "Describe three different data types."
   ]
  },
  {
   "cell_type": "raw",
   "metadata": {},
   "source": [
    "Int:- Integer datatype contains integer type values like 10,20,30\n",
    "\n",
    "float:- Float datatype contains float type values i.e the data is in decimal point like 3.5,6.8,7.234\n",
    "\n",
    "Complex Number: - These numbers contain two parts that is real and imaginary part. For example 3 + 2j, 7 + 5j.(j denotes\n",
    "the imaginary part and 7 denotes the number)"
   ]
  },
  {
   "cell_type": "code",
   "execution_count": 3,
   "metadata": {},
   "outputs": [
    {
     "name": "stdout",
     "output_type": "stream",
     "text": [
      "<class 'int'>\n",
      "<class 'float'>\n",
      "<class 'complex'>\n"
     ]
    }
   ],
   "source": [
    "\"\"\" Example code to describe three different data types\"\"\"\n",
    "a = 10\n",
    "print(type(a))\n",
    "b = 2.345\n",
    "print(type(b))\n",
    "c = 7 + 5j\n",
    "print(type(c))"
   ]
  },
  {
   "cell_type": "markdown",
   "metadata": {},
   "source": [
    "### Question 4"
   ]
  },
  {
   "cell_type": "raw",
   "metadata": {},
   "source": [
    "What is an expression made up of? What do all expressions do?"
   ]
  },
  {
   "cell_type": "raw",
   "metadata": {},
   "source": [
    "Expressions is made up of mix of variables,constants and operators. For example name=\"Ram\" here the expression \"Ram\" is \n",
    "assigned to name. Expressions even contain addition,subtraction,multiplication etc. The result of expression is evaluated down\n",
    "to a value"
   ]
  },
  {
   "cell_type": "markdown",
   "metadata": {},
   "source": [
    "### Question 5"
   ]
  },
  {
   "cell_type": "code",
   "execution_count": null,
   "metadata": {},
   "outputs": [],
   "source": [
    "This assignment statements, like spam = 10. What is the difference between an expression and a statement?"
   ]
  },
  {
   "cell_type": "raw",
   "metadata": {},
   "source": [
    "Expressions will always return a value. for example \"ram\",3+2 and evn functions are expressions.\n",
    "\n",
    "Statements will never return value. We can say that staements conatin expression but they still do not return value. Exapmle \n",
    "of statements are:- conditional statements like for loop,if-else loop,while loop, classes and assignment statements."
   ]
  },
  {
   "cell_type": "markdown",
   "metadata": {},
   "source": [
    "### Question 6"
   ]
  },
  {
   "cell_type": "raw",
   "metadata": {},
   "source": [
    "After running the following code, what does the variable bacon contain?\n",
    "bacon = 22\n",
    "bacon + 1\n"
   ]
  },
  {
   "cell_type": "code",
   "execution_count": 6,
   "metadata": {},
   "outputs": [
    {
     "name": "stdout",
     "output_type": "stream",
     "text": [
      "22\n",
      "22\n"
     ]
    }
   ],
   "source": [
    "bacon = 22\n",
    "print(bacon)\n",
    "bacon + 1\n",
    "print(bacon)"
   ]
  },
  {
   "cell_type": "raw",
   "metadata": {},
   "source": [
    "The variable bacon initially contains 22 and after the following statement \"bacon+1\" the number will still remain 22.\n",
    "Since after adding it has not been assigned again to bacon."
   ]
  },
  {
   "cell_type": "markdown",
   "metadata": {},
   "source": [
    "### Question 7"
   ]
  },
  {
   "cell_type": "raw",
   "metadata": {},
   "source": [
    "What should the values of the following two terms be?\n",
    "\n",
    "'spam' + 'spamspam'\n",
    "'spam' * 3\n"
   ]
  },
  {
   "cell_type": "code",
   "execution_count": 9,
   "metadata": {},
   "outputs": [
    {
     "name": "stdout",
     "output_type": "stream",
     "text": [
      "spamspamspam\n",
      "spamspamspam\n"
     ]
    }
   ],
   "source": [
    "print('spam' + 'spamspam')\n",
    "print('spam' * 3)"
   ]
  },
  {
   "cell_type": "raw",
   "metadata": {},
   "source": [
    "The value of both will be the same which is 'spamspamspam'"
   ]
  },
  {
   "cell_type": "markdown",
   "metadata": {},
   "source": [
    "### Question 8"
   ]
  },
  {
   "cell_type": "raw",
   "metadata": {},
   "source": [
    "Why is eggs a valid variable name while 100 is invalid?"
   ]
  },
  {
   "cell_type": "raw",
   "metadata": {},
   "source": [
    "eggs is considered as a valid variable name while 100 in invalid beacuse it disobeys the rule of naming convention\n",
    "in python.\n",
    "*) Variable names can contain numbers but not at the start."
   ]
  },
  {
   "cell_type": "markdown",
   "metadata": {},
   "source": [
    "### Question 9"
   ]
  },
  {
   "cell_type": "code",
   "execution_count": null,
   "metadata": {},
   "outputs": [],
   "source": [
    "What three functions can be used to get the integer, floating-point number, or string version of a value?"
   ]
  },
  {
   "cell_type": "code",
   "execution_count": 15,
   "metadata": {},
   "outputs": [
    {
     "name": "stdout",
     "output_type": "stream",
     "text": [
      "<class 'str'>\n",
      "<class 'float'>\n",
      "\n",
      "\n",
      "<class 'int'>\n",
      "<class 'float'>\n",
      "\n",
      "\n",
      "<class 'float'>\n",
      "<class 'str'>\n"
     ]
    }
   ],
   "source": [
    "a=\"2.314\"\n",
    "print(type(a))\n",
    "a1 = float(a)\n",
    "print(type(a1))\n",
    "b = 345\n",
    "print('\\n')\n",
    "print(type(b))\n",
    "b1 = float(b)\n",
    "print(type(b1))\n",
    "print('\\n')\n",
    "c = 34.5\n",
    "print(type(c))\n",
    "c1 = str(c)\n",
    "print(type(c1))"
   ]
  },
  {
   "cell_type": "raw",
   "metadata": {},
   "source": [
    "The above functions are used to get an Integer,string,float version of a value called as type casting."
   ]
  },
  {
   "cell_type": "markdown",
   "metadata": {},
   "source": [
    "### Question 10"
   ]
  },
  {
   "cell_type": "raw",
   "metadata": {},
   "source": [
    "Why does this expression cause an error? How can you fix it?\n",
    "'I have eaten ' + 99 + ' burritos.'\n"
   ]
  },
  {
   "cell_type": "code",
   "execution_count": 20,
   "metadata": {},
   "outputs": [
    {
     "ename": "TypeError",
     "evalue": "can only concatenate str (not \"int\") to str",
     "output_type": "error",
     "traceback": [
      "\u001b[1;31m---------------------------------------------------------------------------\u001b[0m",
      "\u001b[1;31mTypeError\u001b[0m                                 Traceback (most recent call last)",
      "\u001b[1;32m<ipython-input-20-6cda7977dd8f>\u001b[0m in \u001b[0;36m<module>\u001b[1;34m\u001b[0m\n\u001b[1;32m----> 1\u001b[1;33m \u001b[0mprint\u001b[0m\u001b[1;33m(\u001b[0m\u001b[1;34m'I have eaten '\u001b[0m\u001b[1;33m+\u001b[0m \u001b[1;36m99\u001b[0m \u001b[1;33m+\u001b[0m \u001b[1;34m' burritos.'\u001b[0m\u001b[1;33m)\u001b[0m\u001b[1;33m\u001b[0m\u001b[1;33m\u001b[0m\u001b[0m\n\u001b[0m",
      "\u001b[1;31mTypeError\u001b[0m: can only concatenate str (not \"int\") to str"
     ]
    }
   ],
   "source": [
    "print('I have eaten '+ 99 + ' burritos.')"
   ]
  },
  {
   "cell_type": "raw",
   "metadata": {},
   "source": [
    "The above expression will cause an error beacuse we can only concatenate str to str and not int. \n",
    "To fix the expression we can add single quotes to 99 that is '99'."
   ]
  },
  {
   "cell_type": "code",
   "execution_count": 21,
   "metadata": {},
   "outputs": [
    {
     "name": "stdout",
     "output_type": "stream",
     "text": [
      "I have eaten 99 burritos.\n"
     ]
    }
   ],
   "source": [
    "print('I have eaten '+ '99' + ' burritos.')"
   ]
  }
 ],
 "metadata": {
  "kernelspec": {
   "display_name": "Python 3",
   "language": "python",
   "name": "python3"
  },
  "language_info": {
   "codemirror_mode": {
    "name": "ipython",
    "version": 3
   },
   "file_extension": ".py",
   "mimetype": "text/x-python",
   "name": "python",
   "nbconvert_exporter": "python",
   "pygments_lexer": "ipython3",
   "version": "3.8.5"
  }
 },
 "nbformat": 4,
 "nbformat_minor": 4
}
