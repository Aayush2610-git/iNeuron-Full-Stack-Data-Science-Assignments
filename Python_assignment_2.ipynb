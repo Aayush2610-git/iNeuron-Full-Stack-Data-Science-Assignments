{
 "cells": [
  {
   "cell_type": "markdown",
   "metadata": {},
   "source": [
    "### Question 1"
   ]
  },
  {
   "cell_type": "raw",
   "metadata": {},
   "source": [
    "What are the two values of the Boolean data type? How do you write them?"
   ]
  },
  {
   "cell_type": "code",
   "execution_count": null,
   "metadata": {},
   "outputs": [],
   "source": [
    "The Boolean data type has two values True and False.\n",
    "For example:-"
   ]
  },
  {
   "cell_type": "code",
   "execution_count": 19,
   "metadata": {},
   "outputs": [
    {
     "name": "stdout",
     "output_type": "stream",
     "text": [
      "True\n",
      "False\n"
     ]
    }
   ],
   "source": [
    "print(12>3)\n",
    "print(13<1)"
   ]
  },
  {
   "cell_type": "markdown",
   "metadata": {},
   "source": [
    "### Question 2"
   ]
  },
  {
   "cell_type": "markdown",
   "metadata": {},
   "source": [
    "What are the three different types of Boolean operators?"
   ]
  },
  {
   "cell_type": "raw",
   "metadata": {},
   "source": [
    "#1 and operator returns true if both the operands are true and false otherwise.\n",
    "#2 or operator returns true if even one operand is true and false if both the operands are false.\n",
    "#3 not operator returns true if the operand is false and false if the operand is true."
   ]
  },
  {
   "cell_type": "markdown",
   "metadata": {},
   "source": [
    "### Question 3"
   ]
  },
  {
   "cell_type": "code",
   "execution_count": null,
   "metadata": {},
   "outputs": [],
   "source": [
    "Make a list of each Boolean operator's truth tables (i.e. every possible combination of Boolean values for the operator and \n",
    "what it evaluate )."
   ]
  },
  {
   "cell_type": "markdown",
   "metadata": {},
   "source": [
    "X1\tY1\tX1+y1\n",
    "False\tFalse\t0\n",
    "False\tTrue\t1\n",
    "True\tFalse\t1\n",
    "True\tTrue\t2\n",
    "\n",
    "X1\tY1\tX1 * Y1 \n",
    "False\tFalse\t0\n",
    "False\tTrue\t0\n",
    "True\tFalse\t0\n",
    "True\tTrue\t1\n",
    "\n",
    "not in python\t\n",
    "not(True)\tFalse\n",
    "not(False)\tTrue"
   ]
  },
  {
   "cell_type": "markdown",
   "metadata": {},
   "source": [
    "### Question 4"
   ]
  },
  {
   "cell_type": "raw",
   "metadata": {},
   "source": [
    "What are the values of the following expressions?\n",
    "(5 > 4) and (3 == 5)\n",
    "not (5 > 4)\n",
    "(5 > 4) or (3 == 5)\n",
    "not ((5 > 4) or (3 == 5))\n",
    "(True and True) and (True == False)\n",
    "(not False) or (not True)\n"
   ]
  },
  {
   "cell_type": "code",
   "execution_count": 8,
   "metadata": {},
   "outputs": [
    {
     "name": "stdout",
     "output_type": "stream",
     "text": [
      "False\n",
      "True\n"
     ]
    }
   ],
   "source": [
    "a = (5 > 4) and (3 == 5) #1\n",
    "print(a)\n",
    "b = not (5 > 4) #2\n",
    "print(b)\n",
    "c = (5 > 4) or (3 == 5) #3\n",
    "print(c) \n",
    "d = not ((5 > 4) or (3 == 5)) #4\n",
    "print(d)\n",
    "e = (True and True) and (True == False) #5\n",
    "print(e)\n",
    "f = (not False) or (not True) #6\n",
    "print(f)"
   ]
  },
  {
   "cell_type": "raw",
   "metadata": {},
   "source": [
    "#1 The expression will print True only if both the expressions are valid.(3==5) is not a valid expression\n",
    "#2 The expression will print False if it is valid and True if it is not valid.\n",
    "#3 The expression will print True if any one expression out of the two gets valid\n",
    "#4 The expression will print False if it is valid and True if it is not valid.\n",
    "#5 This expression will be False since both of them should be valid.\n",
    "#6 The \"not false\" will give true and thereby the output value will true"
   ]
  },
  {
   "cell_type": "markdown",
   "metadata": {},
   "source": [
    "### Question 5"
   ]
  },
  {
   "cell_type": "raw",
   "metadata": {},
   "source": [
    "What are the six comparison operators?"
   ]
  },
  {
   "cell_type": "code",
   "execution_count": null,
   "metadata": {},
   "outputs": [],
   "source": [
    "1) greater than operator(>)\n",
    "2) less than operator (<)\n",
    "3) equal to operator (==)\n",
    "4) less than equal to operator (<=)\n",
    "5) greater than equal to operator (>=)\n",
    "6) not equal to operator (!=)\n",
    "Below are the following examples for each comparision operator"
   ]
  },
  {
   "cell_type": "code",
   "execution_count": 25,
   "metadata": {},
   "outputs": [
    {
     "name": "stdout",
     "output_type": "stream",
     "text": [
      "True\n",
      "True\n",
      "False\n",
      "True\n",
      "True\n",
      "False\n"
     ]
    }
   ],
   "source": [
    "print(5>2) #1\n",
    "print(3<13) #2\n",
    "print(232==231) #3\n",
    "print(3<=3) #4\n",
    "print(4>=4) #5\n",
    "print(a!=a) #6"
   ]
  },
  {
   "cell_type": "markdown",
   "metadata": {},
   "source": [
    "### Question 6"
   ]
  },
  {
   "cell_type": "code",
   "execution_count": null,
   "metadata": {},
   "outputs": [],
   "source": [
    "How do you tell the difference between the equal to and assignment operators?\n",
    "Describe a condition and when you would use one."
   ]
  },
  {
   "cell_type": "raw",
   "metadata": {},
   "source": [
    "Equal to operator is given as (==)\n",
    "Assignment operator is given as (=)\n",
    "for eg:-"
   ]
  },
  {
   "cell_type": "code",
   "execution_count": 32,
   "metadata": {},
   "outputs": [
    {
     "name": "stdout",
     "output_type": "stream",
     "text": [
      "False\n",
      "2\n"
     ]
    }
   ],
   "source": [
    "print(3==5)\n",
    "a=2\n",
    "print(a)"
   ]
  },
  {
   "cell_type": "raw",
   "metadata": {},
   "source": [
    "The equal to operator (==) is used when we are comparing something. In the above example comparing if 3 is equal to 5 to which\n",
    "the output is false.\n",
    "The assignment operator (=) is used to assign a data to a variable. In the above example we have assigned 2 to a.\n",
    "I will use the equal to operator to compare and check if it's equal whereas assignment operator to assign a particular data so\n",
    "as to store it.\n",
    "The below code condition describes the use of assignment and equal to operator"
   ]
  },
  {
   "cell_type": "code",
   "execution_count": 36,
   "metadata": {},
   "outputs": [
    {
     "name": "stdout",
     "output_type": "stream",
     "text": [
      "Enter a number to check if it's even or odd 54\n",
      "54 is an even number\n"
     ]
    }
   ],
   "source": [
    "a=int(input(\"Enter a number to check if it's even or odd \"))\n",
    "if(a%2==0):\n",
    "    print('{} is an even number'.format(a))\n",
    "else:\n",
    "    print('{} is an odd number'.format(a))"
   ]
  },
  {
   "cell_type": "markdown",
   "metadata": {},
   "source": [
    "### Question 7"
   ]
  },
  {
   "cell_type": "raw",
   "metadata": {},
   "source": [
    "Identify the three blocks in this code:\n",
    "spam = 0\n",
    "if spam == 10:\n",
    "print('eggs')\n",
    "if spam > 5:\n",
    "print('bacon')\n",
    "else:\n",
    "print('ham')\n",
    "print('spam')\n",
    "print('spam')\n"
   ]
  },
  {
   "cell_type": "code",
   "execution_count": 51,
   "metadata": {},
   "outputs": [
    {
     "name": "stdout",
     "output_type": "stream",
     "text": [
      "ham\n",
      "spam\n",
      "spam\n"
     ]
    }
   ],
   "source": [
    "spam = 0\n",
    "if spam == 10:\n",
    "    print('eggs')\n",
    "if spam > 5:\n",
    "    print('bacon')\n",
    "else:\n",
    "    print('ham')\n",
    "    print('spam')\n",
    "    print('spam')"
   ]
  },
  {
   "cell_type": "raw",
   "metadata": {},
   "source": [
    "The Three blocks in the above code are:\n",
    "if, if,else\n",
    "\n",
    "1) if spam==10:\n",
    "    Here if spam is equal to 10 then it will print('eggs')\n",
    "\n",
    "2) if spam > 5:\n",
    "    Here if spam is greater than 5 then it will print('bacon')\n",
    "\n",
    "3) else:\n",
    "    If the above loops do not satisfy it will print ham,spam,spam"
   ]
  },
  {
   "cell_type": "markdown",
   "metadata": {},
   "source": [
    "### Question 8"
   ]
  },
  {
   "cell_type": "raw",
   "metadata": {},
   "source": [
    "Write code that prints Hello if 1 is stored in spam, prints Howdy if 2 is stored in spam, and prints Greetings! if anything else is stored in spam."
   ]
  },
  {
   "cell_type": "code",
   "execution_count": 62,
   "metadata": {},
   "outputs": [
    {
     "name": "stdout",
     "output_type": "stream",
     "text": [
      "Enter\n",
      "1 to print Hello\n",
      "2 to print Howdy\n",
      "\n",
      "2\n",
      "Howdy\n"
     ]
    }
   ],
   "source": [
    "spam=int(input(\"\"\"Enter\n",
    "1 to print Hello\n",
    "2 to print Howdy\\n\\n\"\"\"))\n",
    "if(spam==1):\n",
    "    print(\"Hello\")\n",
    "elif(spam==2):\n",
    "    print(\"Howdy\")\n",
    "else:\n",
    "    print(\"Greetings!\")"
   ]
  },
  {
   "cell_type": "markdown",
   "metadata": {},
   "source": [
    "### Question 9"
   ]
  },
  {
   "cell_type": "raw",
   "metadata": {},
   "source": [
    "If your programme is stuck in an endless loop, what keys you’ll press?"
   ]
  },
  {
   "cell_type": "code",
   "execution_count": null,
   "metadata": {},
   "outputs": [],
   "source": [
    "We can press cntrl + c to exit an endless loop"
   ]
  },
  {
   "cell_type": "markdown",
   "metadata": {},
   "source": [
    "### Question 10"
   ]
  },
  {
   "cell_type": "raw",
   "metadata": {},
   "source": [
    "How can you tell the difference between break and continue?"
   ]
  },
  {
   "cell_type": "raw",
   "metadata": {},
   "source": [
    "continue: When continue is used in the loop it will skip that particular iteration and then continue with the next iteration.\n",
    "\n",
    "break: When break is used inside a loop it will stop the complete iteration inside which it is.The program will then execute\n",
    "the statement immediately after the loop."
   ]
  },
  {
   "cell_type": "code",
   "execution_count": 71,
   "metadata": {},
   "outputs": [
    {
     "name": "stdout",
     "output_type": "stream",
     "text": [
      "0\n",
      "1\n",
      "2\n",
      "3\n",
      "5\n",
      "6\n",
      "7\n",
      "8\n",
      "9\n"
     ]
    }
   ],
   "source": [
    "a = 10\n",
    "for i in range(a):\n",
    "    if i == 4:\n",
    "        continue\n",
    "    print(i)"
   ]
  },
  {
   "cell_type": "code",
   "execution_count": 74,
   "metadata": {},
   "outputs": [
    {
     "name": "stdout",
     "output_type": "stream",
     "text": [
      "0\n",
      "1\n",
      "2\n",
      "3\n"
     ]
    }
   ],
   "source": [
    "a = 10\n",
    "for i in range(a):\n",
    "    if i == 4:\n",
    "        break\n",
    "    print(i)"
   ]
  },
  {
   "cell_type": "markdown",
   "metadata": {},
   "source": [
    "### Question 11"
   ]
  },
  {
   "cell_type": "raw",
   "metadata": {},
   "source": [
    "In a for loop, what is the difference between range(10), range(0, 10), and range(0, 10, 1)?"
   ]
  },
  {
   "cell_type": "raw",
   "metadata": {},
   "source": [
    "range(10): This fuction takes one argument and is termed as 'stop'. The program will print numbers always starting\n",
    "           from 0 and will stop at 9.\n",
    "range(0,10): This function takes two arguments that is termed as 'start' and 'stop'. The program will start printing the                    numbers from any number 0 and stop at 9. \n",
    "range(0,10,1): This function takes three arguments that is termed as 'start','stop','step'.The 'step' will adjust the\n",
    "               difference from one number to the next one. Here the program will print numbers from 0 to 9 with a stepsize 1."
   ]
  },
  {
   "cell_type": "markdown",
   "metadata": {},
   "source": [
    "### Question 12"
   ]
  },
  {
   "cell_type": "raw",
   "metadata": {},
   "source": [
    "Write a short program that prints the numbers 1 to 10 using a for loop. Then write an equivalent program that prints \n",
    "the numbers 1 to 10 using a while loop."
   ]
  },
  {
   "cell_type": "code",
   "execution_count": 78,
   "metadata": {},
   "outputs": [
    {
     "name": "stdout",
     "output_type": "stream",
     "text": [
      "1\n",
      "2\n",
      "3\n",
      "4\n",
      "5\n",
      "6\n",
      "7\n",
      "8\n",
      "9\n",
      "10\n"
     ]
    }
   ],
   "source": [
    "#for loop\n",
    "for i in range(1,11):\n",
    "    print(i)"
   ]
  },
  {
   "cell_type": "code",
   "execution_count": 80,
   "metadata": {},
   "outputs": [
    {
     "name": "stdout",
     "output_type": "stream",
     "text": [
      "1\n",
      "2\n",
      "3\n",
      "4\n",
      "5\n",
      "6\n",
      "7\n",
      "8\n",
      "9\n",
      "10\n"
     ]
    }
   ],
   "source": [
    "#While loop\n",
    "i=1\n",
    "while i<=10:\n",
    "    print(i)\n",
    "    i+=1"
   ]
  },
  {
   "cell_type": "markdown",
   "metadata": {},
   "source": [
    "### Question 13"
   ]
  },
  {
   "cell_type": "code",
   "execution_count": null,
   "metadata": {},
   "outputs": [],
   "source": [
    "If you had a function named bacon() inside a module named spam, how would you call it after importing spam?"
   ]
  },
  {
   "cell_type": "markdown",
   "metadata": {},
   "source": [
    "// inside spam.py module\n",
    "def bacon():\n",
    "    print(\"Hello Aayush how are you?\")\n"
   ]
  },
  {
   "cell_type": "code",
   "execution_count": 2,
   "metadata": {},
   "outputs": [
    {
     "name": "stdout",
     "output_type": "stream",
     "text": [
      "Hello Aayush how are you?\n"
     ]
    }
   ],
   "source": [
    "#creating a module named spam.py \n",
    "import spam\n",
    "#calling function named bacon() inside the module named spam\n",
    "spam.bacon()"
   ]
  }
 ],
 "metadata": {
  "kernelspec": {
   "display_name": "Python 3",
   "language": "python",
   "name": "python3"
  },
  "language_info": {
   "codemirror_mode": {
    "name": "ipython",
    "version": 3
   },
   "file_extension": ".py",
   "mimetype": "text/x-python",
   "name": "python",
   "nbconvert_exporter": "python",
   "pygments_lexer": "ipython3",
   "version": "3.8.5"
  }
 },
 "nbformat": 4,
 "nbformat_minor": 4
}
